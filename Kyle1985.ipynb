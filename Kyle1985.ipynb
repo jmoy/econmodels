{
 "cells": [
  {
   "cell_type": "markdown",
   "metadata": {},
   "source": [
    "The discrete-time multi-period model in Kyle ([1985](http://www.jstor.org/stable/1913210)). We normalize $\\Delta t=1/N$ and $\\Sigma_0=1$"
   ]
  },
  {
   "cell_type": "code",
   "execution_count": null,
   "metadata": {
    "collapsed": true
   },
   "outputs": [],
   "source": [
    "import numpy as np\n",
    "import matplotlib.pyplot as plt\n",
    "import scipy.optimize\n",
    "from math import sqrt\n",
    "from collections import namedtuple\n",
    "%matplotlib inline"
   ]
  },
  {
   "cell_type": "code",
   "execution_count": null,
   "metadata": {
    "collapsed": true
   },
   "outputs": [],
   "source": [
    "KyleSolution = namedtuple(\"KyleSolution\",\"N varu t alpha beta delta lamb Sigma\")"
   ]
  },
  {
   "cell_type": "code",
   "execution_count": null,
   "metadata": {
    "collapsed": true
   },
   "outputs": [],
   "source": [
    "def solve_kyle(N,varu):\n",
    "    delta_t = 1.0/N\n",
    "    alpha = np.empty(N+1)\n",
    "    delta = np.empty(N+1)\n",
    "    beta = np.empty(N+1)\n",
    "    lamb = np.empty(N+1)\n",
    "    Sigma = np.empty(N+1)\n",
    "\n",
    "    alpha[N] = 0\n",
    "    delta[N] = 0\n",
    "    # An arbitrary value for Sigma[N].\n",
    "    # At the end of the solution we will scale by the\n",
    "    # right factor to meet the boundary condition for\n",
    "    # Sigma[0]\n",
    "    Sigma[N] = 1 \n",
    "\n",
    "    for n in range(N,-1,-1):\n",
    "        if n==N:\n",
    "            lamb[n] = sqrt((0.5*Sigma[n])/(varu*delta_t))\n",
    "        else:\n",
    "            f = lambda l: (1-l**2*varu*delta_t/Sigma[n])*(1-alpha[n]*l)-0.5\n",
    "            val,res = scipy.optimize.brentq(f,\n",
    "                                            0,1/alpha[n],\n",
    "                                            full_output = True)\n",
    "            assert res.converged\n",
    "            lamb[n] = val            \n",
    "    \n",
    "        beta[n] = (1-2*alpha[n]*lamb[n])/(2*lamb[n]*delta_t*(1-alpha[n]*lamb[n]))\n",
    "    \n",
    "        if n>0:\n",
    "            alpha[n-1] = 1/(4*lamb[n]*(1-alpha[n]*lamb[n]))\n",
    "            delta[n-1] = delta[n]+alpha[n]*lamb[n]**2*varu*delta_t\n",
    "            Sigma[n-1] = Sigma[n]/(1-beta[n]*lamb[n]*delta_t)\n",
    "    \n",
    "    # Rescale solution to get Sigma[0]=1. \n",
    "    # Note that the scaling given in the original Kyle paper\n",
    "    #  are incorrect.\n",
    "    scale = sqrt(Sigma[0])\n",
    "    Sigma /= scale**2\n",
    "    alpha *= scale\n",
    "    delta /= scale\n",
    "    beta *= scale\n",
    "    lamb /= scale\n",
    "    \n",
    "    return KyleSolution(N=N,\n",
    "                        varu = varu,\n",
    "                        t = np.linspace(0,1,N+1),\n",
    "                        alpha = alpha,\n",
    "                        beta = beta,\n",
    "                        delta = delta,\n",
    "                        lamb = lamb,\n",
    "                        Sigma = Sigma)"
   ]
  },
  {
   "cell_type": "code",
   "execution_count": null,
   "metadata": {
    "collapsed": true
   },
   "outputs": [],
   "source": [
    "def comparison_plot(modlab,attr):\n",
    "    for mod,lab in modlab:\n",
    "        plt.plot(mod.t,getattr(mod,attr),label=lab)\n",
    "    plt.legend()\n",
    "    plt.title(attr)"
   ]
  },
  {
   "cell_type": "code",
   "execution_count": null,
   "metadata": {
    "collapsed": false
   },
   "outputs": [],
   "source": [
    "params = [(\"N=50\",50,0.5),\n",
    "          (\"N=1000\",1000,0.5)]\n",
    "mods = [(solve_kyle(N,varu),l) for l,N,varu in params]"
   ]
  },
  {
   "cell_type": "code",
   "execution_count": null,
   "metadata": {
    "collapsed": false
   },
   "outputs": [],
   "source": [
    "fmt = \"{:>20} | {}\"\n",
    "print(fmt.format(\"model\",\"Sigma[N]\"))\n",
    "for s,l in mods:\n",
    "    print(\"{:>20} | {:.4f}\".format(l,s.Sigma[-1]))"
   ]
  },
  {
   "cell_type": "code",
   "execution_count": null,
   "metadata": {
    "collapsed": false
   },
   "outputs": [],
   "source": [
    "for attr in [\"Sigma\",\"beta\",\"lamb\",\"alpha\"]:\n",
    "    comparison_plot(mods,attr)\n",
    "    plt.show()"
   ]
  },
  {
   "cell_type": "code",
   "execution_count": null,
   "metadata": {
    "collapsed": true
   },
   "outputs": [],
   "source": []
  }
 ],
 "metadata": {
  "kernelspec": {
   "display_name": "Python 3",
   "language": "python",
   "name": "python3"
  },
  "language_info": {
   "codemirror_mode": {
    "name": "ipython",
    "version": 3
   },
   "file_extension": ".py",
   "mimetype": "text/x-python",
   "name": "python",
   "nbconvert_exporter": "python",
   "pygments_lexer": "ipython3",
   "version": "3.5.1"
  }
 },
 "nbformat": 4,
 "nbformat_minor": 0
}
